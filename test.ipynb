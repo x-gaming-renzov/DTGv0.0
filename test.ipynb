{
 "cells": [
  {
   "cell_type": "code",
   "execution_count": 1,
   "metadata": {},
   "outputs": [],
   "source": [
    "from DTG.classes.LLM import *\n",
    "from DTG.prompts import prompt_funcs\n",
    "import json, time"
   ]
  },
  {
   "cell_type": "code",
   "execution_count": 2,
   "metadata": {},
   "outputs": [],
   "source": [
    "INPUT_INFO = 'NPC personality : sarcastic, rude. NPC mood : sarcastic, annoyed. NPC name : Renzov'"
   ]
  },
  {
   "cell_type": "code",
   "execution_count": 8,
   "metadata": {},
   "outputs": [],
   "source": [
    "import json\n",
    "import json\n",
    "def get_dialogue_json(input_info):\n",
    "    t_0 = time.time()\n",
    "    starting_time = time.time()\n",
    "    performance_dict = {\n",
    "        'tags' : 0,\n",
    "        'abstract' : 0,\n",
    "        'endings' : 0,\n",
    "        'tree' : 0,\n",
    "        'formatted_json' : 0\n",
    "    }\n",
    "    llm = LLM()\n",
    "    print(f'Generating tags.')\n",
    "    tags_by_llm = llm.send_message_for_code(prompt_funcs.tag_prompt(input_info), model='gpt-4o-mini')\n",
    "    print(f'Tags generated in {time.time() - starting_time} seconds.')\n",
    "    performance_dict['tags'] = time.time() - starting_time\n",
    "    starting_time = time.time()\n",
    "    print(f'Generating abstract.')\n",
    "    abstract = llm.send_message_for_code(prompt_funcs.abstract_prompt(tags_by_llm, input_info))\n",
    "    print(f'Abstract generated in {time.time() - starting_time} seconds.')\n",
    "    performance_dict['abstract'] = time.time() - starting_time\n",
    "    starting_time = time.time()\n",
    "    print(f'Generating possible endings.')\n",
    "    endings_by_llm = llm.send_message_for_code(prompt_funcs.possible_ending_prompt(abstract), model='gpt-4o-mini')\n",
    "    print(f'Possible endings generated in {time.time() - starting_time} seconds.')\n",
    "    performance_dict['endings'] = time.time() - starting_time\n",
    "    starting_time = time.time()\n",
    "    print(f'Generating dialogue tree.')\n",
    "    tree_by_llm = llm.send_message_for_code(prompt_funcs.dialogue_prompt(abstract, endings_by_llm, tags_by_llm), model='o1-preview')\n",
    "    print(f'Dialogue tree generated in {time.time() - starting_time} seconds.')\n",
    "    performance_dict['tree'] = time.time() - starting_time\n",
    "    starting_time = time.time()\n",
    "    print(f'Formatting JSON.')\n",
    "    formatted_tree = llm.send_message(prompt_funcs.format_prompt(tree_by_llm), model='gpt-4o-mini')\n",
    "    print(f'JSON formatted in {time.time() - starting_time} seconds.')\n",
    "    performance_dict['formatted_json'] = time.time() - starting_time\n",
    "    starting_time = time.time()\n",
    "    print(f'Total time taken : {time.time() - t_0} seconds.')\n",
    "    print(f'Performance dict : {performance_dict}')\n",
    "    formatted_tree_json = json.loads(formatted_tree)\n",
    "    return formatted_tree_json\n"
   ]
  },
  {
   "cell_type": "code",
   "execution_count": 4,
   "metadata": {},
   "outputs": [
    {
     "name": "stdout",
     "output_type": "stream",
     "text": [
      "Generating tags.\n",
      "Tags generated in 4.112805128097534 seconds.\n",
      "Generating abstract.\n",
      "Abstract generated in 4.076787948608398 seconds.\n",
      "Generating possible endings.\n",
      "Possible endings generated in 2.470720052719116 seconds.\n",
      "Generating dialogue tree.\n",
      "Dialogue tree generated in 52.51952004432678 seconds.\n",
      "Formatting JSON.\n",
      "JSON formatted in 15.457004070281982 seconds.\n",
      "Total time taken : 78.63762497901917 seconds.\n",
      "Performance dict : {'tags': 4.112875938415527, 'abstract': 4.077003002166748, 'endings': 2.470893144607544, 'tree': 52.51974606513977, 'formatted_json': 15.457102060317993}\n"
     ]
    }
   ],
   "source": [
    "tree = get_dialogue_json(INPUT_INFO)"
   ]
  },
  {
   "cell_type": "code",
   "execution_count": 6,
   "metadata": {},
   "outputs": [],
   "source": [
    "json_tree = json.loads(tree)"
   ]
  },
  {
   "cell_type": "code",
   "execution_count": 7,
   "metadata": {},
   "outputs": [
    {
     "data": {
      "text/plain": [
       "{'nodes': [{'id': 'node1',\n",
       "   'npc_dialogue': \"Oh look, if it isn't our esteemed manager gracing us with their presence. To what do we owe this dubious pleasure?\",\n",
       "   'tag_of_node': '#greeting #sarcastic #rude #unfriendly #annoyed',\n",
       "   'player_dialogue_choices': [{'player_dialogue_choice': \"Just checking in to see how you're finding the garden.\",\n",
       "     'next_node': 'node2a'},\n",
       "    {'player_dialogue_choice': 'I sensed some dissatisfaction; is there anything I can help with?',\n",
       "     'next_node': 'node2b'},\n",
       "    {'player_dialogue_choice': 'Is there a problem, Renzov?',\n",
       "     'next_node': 'node2c'}]},\n",
       "  {'id': 'node2a',\n",
       "   'npc_dialogue': \"Finding? Oh, I'm not lost, but this garden seems to be. Was the 'crumbling ruins' look intentional or just a happy accident?\",\n",
       "   'tag_of_node': '#question #critical #dissatisfied #sarcastic #rude',\n",
       "   'player_dialogue_choices': [{'player_dialogue_choice': \"I appreciate your honesty. I'll see to the garden's improvements.\",\n",
       "     'next_node': 'node3a1'},\n",
       "    {'player_dialogue_choice': \"Feel free to leave if it's not up to your standards.\",\n",
       "     'next_node': 'node3a2'}]},\n",
       "  {'id': 'node2b',\n",
       "   'npc_dialogue': \"Help? Now there's a novel idea. Maybe start by replacing the spa water that resembles a murky swamp?\",\n",
       "   'tag_of_node': '#answer #dismissive #negative #ironic #unfriendly',\n",
       "   'player_dialogue_choices': [{'player_dialogue_choice': \"I'll have the spa cleaned immediately.\",\n",
       "     'next_node': 'node3b1'},\n",
       "    {'player_dialogue_choice': \"I think it's not that bad.\",\n",
       "     'next_node': 'node3b2'}]},\n",
       "  {'id': 'node2c',\n",
       "   'npc_dialogue': \"A problem? Oh no, everything's perfect—if you're into dilapidated decor and subpar service.\",\n",
       "   'tag_of_node': '#statement #cynical #annoyed #critical #sarcastic',\n",
       "   'player_dialogue_choices': [{'player_dialogue_choice': \"I'm sorry you feel that way. What can I do to make it better?\",\n",
       "     'next_node': 'node3c1'},\n",
       "    {'player_dialogue_choice': \"If you're so unhappy, maybe you should try the afterlife.\",\n",
       "     'next_node': 'node3c2'}]},\n",
       "  {'id': 'node3a1',\n",
       "   'npc_dialogue': \"Well, miracles do happen. Let's hope yours doesn't take an eternity.\",\n",
       "   'tag_of_node': '#apology #insincere #sarcastic #rude #unfriendly',\n",
       "   'player_dialogue_choices': [],\n",
       "   'endtag': 'Neutral Ending'},\n",
       "  {'id': 'node3a2',\n",
       "   'npc_dialogue': 'Oh, tempting offer, but watching this place try to function is its own entertainment.',\n",
       "   'tag_of_node': '#thanks #sarcastic #dismissive #rude #unfriendly',\n",
       "   'player_dialogue_choices': [],\n",
       "   'endtag': 'Negative Ending'},\n",
       "  {'id': 'node3b1',\n",
       "   'npc_dialogue': \"Impressive. Action over words—didn't think you had it in you.\",\n",
       "   'tag_of_node': '#compliment #sarcastic #unfriendly #dismissive #ironic',\n",
       "   'player_dialogue_choices': [],\n",
       "   'endtag': 'Positive Ending'},\n",
       "  {'id': 'node3b2',\n",
       "   'npc_dialogue': \"Denial is a wonderful thing, isn't it? Maybe next you'll tell me the food is gourmet.\",\n",
       "   'tag_of_node': '#criticism #sarcastic #unfriendly #dismissive #annoyed',\n",
       "   'player_dialogue_choices': [],\n",
       "   'endtag': 'Negative Ending'},\n",
       "  {'id': 'node3c1',\n",
       "   'npc_dialogue': \"Unless you can reverse time and rebuild this place properly, I doubt there's much you can do.\",\n",
       "   'tag_of_node': '#disappointment #sarcastic #negative #unfriendly #annoyed',\n",
       "   'player_dialogue_choices': [{'player_dialogue_choice': 'I can certainly try to improve things.',\n",
       "     'next_node': 'node4c1a'},\n",
       "    {'player_dialogue_choice': 'Then maybe you should make the best of it.',\n",
       "     'next_node': 'node4c1b'}]},\n",
       "  {'id': 'node3c2',\n",
       "   'npc_dialogue': 'Believe me, the afterlife sounds more appealing by the minute.',\n",
       "   'tag_of_node': '#exclamation #angry #frustrated #sarcastic #negative',\n",
       "   'player_dialogue_choices': [],\n",
       "   'endtag': 'Negative Ending'},\n",
       "  {'id': 'node4c1a',\n",
       "   'npc_dialogue': \"Your optimism is almost contagious. Let's see how long that lasts.\",\n",
       "   'tag_of_node': '#encouragement #sarcastic #unhelpful #rude #negative',\n",
       "   'player_dialogue_choices': [],\n",
       "   'endtag': 'Neutral Ending'},\n",
       "  {'id': 'node4c1b',\n",
       "   'npc_dialogue': \"Making the best of a bad situation? I've had centuries of practice.\",\n",
       "   'tag_of_node': '#suggestion #sarcastic #dismissive #uncooperative #rude',\n",
       "   'player_dialogue_choices': [],\n",
       "   'endtag': 'Negative Ending'}]}"
      ]
     },
     "execution_count": 7,
     "metadata": {},
     "output_type": "execute_result"
    }
   ],
   "source": [
    "json_tree"
   ]
  },
  {
   "cell_type": "code",
   "execution_count": null,
   "metadata": {},
   "outputs": [],
   "source": []
  }
 ],
 "metadata": {
  "kernelspec": {
   "display_name": ".venv",
   "language": "python",
   "name": "python3"
  },
  "language_info": {
   "codemirror_mode": {
    "name": "ipython",
    "version": 3
   },
   "file_extension": ".py",
   "mimetype": "text/x-python",
   "name": "python",
   "nbconvert_exporter": "python",
   "pygments_lexer": "ipython3",
   "version": "3.12.3"
  }
 },
 "nbformat": 4,
 "nbformat_minor": 2
}
