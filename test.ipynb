{
 "cells": [
  {
   "cell_type": "code",
   "execution_count": 1,
   "metadata": {},
   "outputs": [],
   "source": [
    "from DTG.classes.LLM import *\n",
    "from DTG.prompts import prompt_funcs\n",
    "import json, time"
   ]
  },
  {
   "cell_type": "code",
   "execution_count": 2,
   "metadata": {},
   "outputs": [],
   "source": [
    "INPUT_INFO = 'NPC personality : lazy and shy . NPC mood : confused and amused. Convesation features : dancing, great move, tripping'"
   ]
  },
  {
   "cell_type": "code",
   "execution_count": 3,
   "metadata": {},
   "outputs": [],
   "source": [
    "def get_dialogue_json(input_info):\n",
    "    t_0 = time.time()\n",
    "    starting_time = time.time()\n",
    "    performance_dict = {\n",
    "        'tags' : 0,\n",
    "        'abstract' : 0,\n",
    "        'endings' : 0,\n",
    "        'tree' : 0,\n",
    "        'formatted_json' : 0\n",
    "    }\n",
    "    llm = LLM()\n",
    "    print(f'Generating tags.')\n",
    "    tags_by_llm = llm.send_message_for_code(prompt_funcs.tag_prompt(input_info), model='gpt-4o-mini')\n",
    "    print(f'Tags generated in {time.time() - starting_time} seconds.')\n",
    "    performance_dict['tags'] = time.time() - starting_time\n",
    "    starting_time = time.time()\n",
    "    print(f'Generating abstract.')\n",
    "    abstract = llm.send_message_for_code(prompt_funcs.abstract_prompt(tags_by_llm, input_info))\n",
    "    print(f'Abstract generated in {time.time() - starting_time} seconds.')\n",
    "    performance_dict['abstract'] = time.time() - starting_time\n",
    "    starting_time = time.time()\n",
    "    print(f'Generating possible endings.')\n",
    "    endings_by_llm = llm.send_message_for_code(prompt_funcs.possible_ending_prompt(abstract), model='o1-mini')\n",
    "    print(f'Possible endings generated in {time.time() - starting_time} seconds.')\n",
    "    performance_dict['endings'] = time.time() - starting_time\n",
    "    starting_time = time.time()\n",
    "    print(f'Generating dialogue tree.')\n",
    "    tree_by_llm = llm.send_message_for_code(prompt_funcs.dialogue_prompt(abstract, endings_by_llm, tags_by_llm), model='o1-preview')\n",
    "    print(f'Dialogue tree generated in {time.time() - starting_time} seconds.')\n",
    "    performance_dict['tree'] = time.time() - starting_time\n",
    "    starting_time = time.time()\n",
    "    print(f'Formatting JSON.')\n",
    "    formatted_tree = llm.send_message(prompt_funcs.format_prompt(tree_by_llm), model='gpt-4o-mini')\n",
    "    print(f'JSON formatted in {time.time() - starting_time} seconds.')\n",
    "    performance_dict['formatted_json'] = time.time() - starting_time\n",
    "    starting_time = time.time()\n",
    "    print(f'Total time taken : {time.time() - t_0} seconds.')\n",
    "    print(f'Performance dict : {performance_dict}')\n",
    "    formatted_tree_json = json.loads(formatted_tree)\n",
    "    #formatted_endings_json = json.loads(endings_by_llm)\n",
    "    return formatted_tree_json, endings_by_llm\n"
   ]
  },
  {
   "cell_type": "code",
   "execution_count": 4,
   "metadata": {},
   "outputs": [
    {
     "name": "stdout",
     "output_type": "stream",
     "text": [
      "Generating tags.\n",
      "Tags generated in 4.271592855453491 seconds.\n",
      "Generating abstract.\n",
      "Abstract generated in 3.7157628536224365 seconds.\n",
      "Generating possible endings.\n",
      "Possible endings generated in 12.15352201461792 seconds.\n",
      "Generating dialogue tree.\n",
      "Dialogue tree generated in 51.444640159606934 seconds.\n",
      "Formatting JSON.\n",
      "JSON formatted in 26.459639072418213 seconds.\n",
      "Total time taken : 98.04623055458069 seconds.\n",
      "Performance dict : {'tags': 4.271708965301514, 'abstract': 3.7159159183502197, 'endings': 12.153666973114014, 'tree': 51.44507312774658, 'formatted_json': 26.459840059280396}\n"
     ]
    }
   ],
   "source": [
    "tree, endings = get_dialogue_json(INPUT_INFO)"
   ]
  },
  {
   "cell_type": "code",
   "execution_count": 5,
   "metadata": {},
   "outputs": [],
   "source": [
    "with open('output.json', 'w') as f:\n",
    "    json.dump(tree, f, indent=4)"
   ]
  },
  {
   "cell_type": "code",
   "execution_count": 6,
   "metadata": {},
   "outputs": [],
   "source": [
    "with open('endings.json', 'w') as f:\n",
    "    json.dump(endings, f, indent=4)"
   ]
  },
  {
   "cell_type": "code",
   "execution_count": null,
   "metadata": {},
   "outputs": [],
   "source": []
  }
 ],
 "metadata": {
  "kernelspec": {
   "display_name": ".venv",
   "language": "python",
   "name": "python3"
  },
  "language_info": {
   "codemirror_mode": {
    "name": "ipython",
    "version": 3
   },
   "file_extension": ".py",
   "mimetype": "text/x-python",
   "name": "python",
   "nbconvert_exporter": "python",
   "pygments_lexer": "ipython3",
   "version": "3.12.3"
  }
 },
 "nbformat": 4,
 "nbformat_minor": 2
}
