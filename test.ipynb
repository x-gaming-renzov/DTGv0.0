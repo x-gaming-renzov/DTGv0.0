{
 "cells": [
  {
   "cell_type": "code",
   "execution_count": 1,
   "metadata": {},
   "outputs": [],
   "source": [
    "from DTG.classes.LLM import *\n",
    "from DTG.prompts import prompt_funcs\n",
    "import json, time"
   ]
  },
  {
   "cell_type": "code",
   "execution_count": 2,
   "metadata": {},
   "outputs": [],
   "source": [
    "INPUT_INFO = 'NPC personality : lazy and shy . NPC mood : confused and amused. Convesation features : dancing, great move, tripping'"
   ]
  },
  {
   "cell_type": "code",
   "execution_count": 3,
   "metadata": {},
   "outputs": [],
   "source": [
    "def get_dialogue_json(input_info):\n",
    "    t_0 = time.time()\n",
    "    starting_time = time.time()\n",
    "    performance_dict = {\n",
    "        'tags' : 0,\n",
    "        'abstract' : 0,\n",
    "        'endings' : 0,\n",
    "        'tree' : 0,\n",
    "        'formatted_json' : 0\n",
    "    }\n",
    "    llm = LLM()\n",
    "    print(f'Generating tags.')\n",
    "    tags_by_llm = llm.send_message_for_code(prompt_funcs.tag_prompt(input_info), model='gpt-4o-mini')\n",
    "    print(f'Tags generated in {time.time() - starting_time} seconds.')\n",
    "    performance_dict['tags'] = time.time() - starting_time\n",
    "    starting_time = time.time()\n",
    "    print(f'Generating abstract.')\n",
    "    abstract = llm.send_message_for_code(prompt_funcs.abstract_prompt(tags_by_llm, input_info))\n",
    "    print(f'Abstract generated in {time.time() - starting_time} seconds.')\n",
    "    performance_dict['abstract'] = time.time() - starting_time\n",
    "    starting_time = time.time()\n",
    "    print(f'Generating possible endings.')\n",
    "    endings_by_llm = llm.send_message_for_code(prompt_funcs.possible_ending_prompt(abstract), model='o1-mini')\n",
    "    print(f'Possible endings generated in {time.time() - starting_time} seconds.')\n",
    "    performance_dict['endings'] = time.time() - starting_time\n",
    "    starting_time = time.time()\n",
    "    print(f'Generating dialogue tree.')\n",
    "    tree_by_llm = llm.send_message_for_code(prompt_funcs.dialogue_prompt(abstract, endings_by_llm, tags_by_llm), model='o1-preview')\n",
    "    print(f'Dialogue tree generated in {time.time() - starting_time} seconds.')\n",
    "    performance_dict['tree'] = time.time() - starting_time\n",
    "    starting_time = time.time()\n",
    "    print(f'Formatting JSON.')\n",
    "    formatted_tree = llm.send_message(prompt_funcs.format_prompt(tree_by_llm), model='gpt-4o-mini')\n",
    "    print(f'JSON formatted in {time.time() - starting_time} seconds.')\n",
    "    performance_dict['formatted_json'] = time.time() - starting_time\n",
    "    starting_time = time.time()\n",
    "    print(f'Total time taken : {time.time() - t_0} seconds.')\n",
    "    print(f'Performance dict : {performance_dict}')\n",
    "    formatted_tree_json = json.loads(formatted_tree)\n",
    "    #formatted_endings_json = json.loads(endings_by_llm)\n",
    "    return formatted_tree_json, endings_by_llm\n"
   ]
  },
  {
   "cell_type": "code",
   "execution_count": 4,
   "metadata": {},
   "outputs": [],
   "source": [
    "#tree, endings = get_dialogue_json(INPUT_INFO)"
   ]
  },
  {
   "cell_type": "code",
   "execution_count": 5,
   "metadata": {},
   "outputs": [],
   "source": [
    "from DTG.classes.OutputClasses import Tree, PossibleEndings"
   ]
  },
  {
   "cell_type": "code",
   "execution_count": 6,
   "metadata": {},
   "outputs": [],
   "source": [
    "def get_dialogue_json(input_info):\n",
    "    t_0 = time.time()\n",
    "    starting_time = time.time()\n",
    "    performance_dict = {\n",
    "        'tags' : 0,\n",
    "        'abstract' : 0,\n",
    "        'endings' : 0,\n",
    "        'tree' : 0\n",
    "    }\n",
    "    llm = LLM()\n",
    "    print(f'Generating tags.')\n",
    "    tags_by_llm = llm.send_message_for_code(prompt_funcs.tag_prompt(input_info), model='gpt-4o-mini')\n",
    "    print(f'Tags generated in {time.time() - starting_time} seconds.')\n",
    "    performance_dict['tags'] = time.time() - starting_time\n",
    "    starting_time = time.time()\n",
    "    print(f'Generating abstract.')\n",
    "    abstract = llm.send_message_for_code(prompt_funcs.abstract_prompt(tags_by_llm, input_info))\n",
    "    print(f'Abstract generated in {time.time() - starting_time} seconds.')\n",
    "    performance_dict['abstract'] = time.time() - starting_time\n",
    "    starting_time = time.time()\n",
    "    print(f'Generating possible endings.')\n",
    "    endings_by_llm = llm.send_message_for_format(prompt_funcs.possible_ending_prompt(abstract), PossibleEndings ,model='gpt-4o')\n",
    "    print(f'Possible endings generated in {time.time() - starting_time} seconds.')\n",
    "    performance_dict['endings'] = time.time() - starting_time\n",
    "    starting_time = time.time()\n",
    "    print(f'Generating dialogue tree.')\n",
    "    tree_by_llm = llm.send_message_for_format(prompt_funcs.dialogue_prompt(abstract, endings_by_llm, tags_by_llm), format=Tree,model='gpt-4o')\n",
    "    print(f'Dialogue tree generated in {time.time() - starting_time} seconds.')\n",
    "    performance_dict['tree'] = time.time() - starting_time\n",
    "    starting_time = time.time()\n",
    "    print(f'Total time taken : {time.time() - t_0} seconds.')\n",
    "    print(f'Performance dict : {performance_dict}')\n",
    "    #formatted_endings_json = json.loads(endings_by_llm)\n",
    "    return tree_by_llm, endings_by_llm\n"
   ]
  },
  {
   "cell_type": "code",
   "execution_count": null,
   "metadata": {},
   "outputs": [
    {
     "name": "stdout",
     "output_type": "stream",
     "text": [
      "Generating tags.\n",
      "Tags generated in 2.5117878913879395 seconds.\n",
      "Generating abstract.\n",
      "Abstract generated in 2.788331985473633 seconds.\n",
      "Generating possible endings.\n",
      "Possible endings generated in 23.468002796173096 seconds.\n",
      "Generating dialogue tree.\n",
      "Dialogue tree generated in 82.8299708366394 seconds.\n",
      "Total time taken : 111.59956097602844 seconds.\n",
      "Performance dict : {'tags': 2.511867046356201, 'abstract': 2.7885429859161377, 'endings': 23.468127965927124, 'tree': 82.83101892471313}\n"
     ]
    }
   ],
   "source": [
    "#tree, endings = get_dialogue_json(INPUT_INFO)"
   ]
  },
  {
   "cell_type": "code",
   "execution_count": 10,
   "metadata": {},
   "outputs": [],
   "source": [
    "import requests, json"
   ]
  },
  {
   "cell_type": "code",
   "execution_count": 11,
   "metadata": {},
   "outputs": [],
   "source": [
    "url = 'http://127.0.0.1:5000'"
   ]
  },
  {
   "cell_type": "code",
   "execution_count": 17,
   "metadata": {},
   "outputs": [],
   "source": [
    "url = \"http://127.0.0.1:5000//generate_tags\"\n",
    "\n",
    "payload = json.dumps({\n",
    "  \"input_info\": \"NPC personality : lazy and shy . NPC mood : confused and amused. Convesation features : dancing, great move, tripping\"\n",
    "})\n",
    "headers = {\n",
    "  'Content-Type': 'application/json'\n",
    "}\n",
    "\n",
    "response = requests.request(\"POST\", url, headers=headers, data=payload)"
   ]
  },
  {
   "cell_type": "code",
   "execution_count": 21,
   "metadata": {},
   "outputs": [],
   "source": [
    "tags = response.json()['tags']"
   ]
  },
  {
   "cell_type": "code",
   "execution_count": 23,
   "metadata": {},
   "outputs": [],
   "source": [
    "url = \"http://127.0.0.1:5000/generate_abstract\"\n",
    "payload = json.dumps({\n",
    "    \"input_info\" : INPUT_INFO,\n",
    "    \"tags\" : tags\n",
    "})\n",
    "\n",
    "response = requests.request(\"POST\", url, headers=headers, data=payload)"
   ]
  },
  {
   "cell_type": "code",
   "execution_count": 24,
   "metadata": {},
   "outputs": [],
   "source": [
    "abstract = response.json()['abstract']"
   ]
  },
  {
   "cell_type": "code",
   "execution_count": 29,
   "metadata": {},
   "outputs": [],
   "source": [
    "url = \"http://127.0.0.1:5000/generate_possible_endings\"\n",
    "payload = payload = json.dumps({\n",
    "    \"input_info\" : INPUT_INFO,\n",
    "    \"tags\" : tags,\n",
    "    \"abstract\" : abstract\n",
    "})\n",
    "response = requests.request(\"POST\", url, headers=headers, data=payload)"
   ]
  },
  {
   "cell_type": "code",
   "execution_count": 30,
   "metadata": {},
   "outputs": [],
   "source": [
    "endings = response.json()['endings']"
   ]
  },
  {
   "cell_type": "code",
   "execution_count": 31,
   "metadata": {},
   "outputs": [],
   "source": [
    "url = \"http://127.0.0.1:5000/generate_dialogue_tree\"\n",
    "payload = payload = json.dumps({\n",
    "    \"input_info\" : INPUT_INFO,\n",
    "    \"tags\" : tags,\n",
    "    \"abstract\" : abstract,\n",
    "    \"endings\" : endings\n",
    "})\n",
    "response = requests.request(\"POST\", url, headers=headers, data=payload)"
   ]
  },
  {
   "cell_type": "code",
   "execution_count": 32,
   "metadata": {},
   "outputs": [
    {
     "data": {
      "text/plain": [
       "'{\"nodes\":[{\"id\":\"node1\",\"npc_dialogue\":\"Hey there! Ever seen a spirit trip while trying to cha-cha-cha? It\\'s quite the splash!\",\"tag_of_node\":\"greeting_funny\",\"player_dialogue_choices\":[{\"player_dialogue_choice\":\"Is that why you\\'re soaked? Maybe you\\'d excel at synchronized swimming!\",\"next_node\":\"node2\"},{\"player_dialogue_choice\":\"Did the fountain deserve an apology, or was it your graceful way of saying hello?\",\"next_node\":\"node3\"}] ,\"end_node_effect\":{ \"positive\":{ \"parameter_tag\":\"mood\", \"value\":\"0.5\" },\"neutral\":{ \"parameter_tag\":\"restlessness\", \"value\":\"0.2\" },\"negative\":{ \"parameter_tag\":\"statusEffect\", \"value\":\"\\\\\"confused\\\\\", \\\\\"add\\\\\" : true\" }}},{\"id\":\"node2\",\"npc_dialogue\":\"Ha! You might be onto something. But I\\'d rather be floating on clouds than sinking in fountains.\",\"tag_of_node\":\"amused_friendly\",\"player_dialogue_choices\":[{\"player_dialogue_choice\":\"Maybe the clouds are just in need of a good cha-cha too!\",\"next_node\":\"node4\"},{\"player_dialogue_choice\":\"Time for a practice? Let\\'s dodge that fountain together.\",\"next_node\":\"node5\"}] ,\"end_node_effect\":{ \"positive\":{ \"parameter_tag\":\"mood\", \"value\":\"0.5\" },\"neutral\":{ \"parameter_tag\":\"restlessness\", \"value\":\"0.2\" },\"negative\":{ \"parameter_tag\":\"statusEffect\", \"value\":\"\\\\\"confused\\\\\", \\\\\"add\\\\\" : true\" }}},{\"id\":\"node3\",\"npc_dialogue\":\"Oh, it deserves an apology for sure! But it\\'s not every day a ghostly dance hits such heights!\",\"tag_of_node\":\"shy_joke\",\"player_dialogue_choices\":[{\"player_dialogue_choice\":\"Next time, twirl around it with finesse! Everyone admires a bold dancer.\",\"next_node\":\"node4\"},{\"player_dialogue_choice\":\"Fountains can be tricky. Consider taking mournful owls as backup dancers!\",\"next_node\":\"node5\"}] ,\"end_node_effect\":{ \"positive\":{ \"parameter_tag\":\"mood\", \"value\":\"0.5\" },\"neutral\":{ \"parameter_tag\":\"restlessness\", \"value\":\"0.2\" },\"negative\":{ \"parameter_tag\":\"statusEffect\", \"value\":\"\\\\\"confused\\\\\", \\\\\"add\\\\\" : true\" }}},{\"id\":\"node4\",\"npc_dialogue\":\"True! Maybe all floating needs is a little rhythm and beat. Can you help me tap my toes better?\",\"tag_of_node\":\"request_helpful\",\"player_dialogue_choices\":[{\"player_dialogue_choice\":\"I\\'d be delighted! Let\\'s turn those dance floors into clouds of dream.\",\"next_node\":\"end1\"},{\"player_dialogue_choice\":\"Why not! Dancing is just like cloud bouncing in spirit form.\",\"next_node\":\"end1\"}] ,\"end_node_effect\":{ \"positive\":{ \"parameter_tag\":\"mood\", \"value\":\"0.5\" },\"neutral\":{ \"parameter_tag\":\"restlessness\", \"value\":\"0.2\" },\"negative\":{ \"parameter_tag\":\"statusEffect\", \"value\":\"\\\\\"confused\\\\\", \\\\\"add\\\\\" : true\" }}},{\"id\":\"node5\",\"npc_dialogue\":\"Backup dancers, you say? Perhaps I should conjure up a crew!\",\"tag_of_node\":\"surprised_amused\",\"player_dialogue_choices\":[{\"player_dialogue_choice\":\"Not unless you\\'re throwing a pool party. We can keep it simple, just the two of us!\",\"next_node\":\"end2\"},{\"player_dialogue_choice\":\"As long as the fountain\\'s not invited, I\\'m game for any dance routine!\",\"next_node\":\"end2\"}] ,\"end_node_effect\":{ \"positive\":{ \"parameter_tag\":\"mood\", \"value\":\"0.5\" },\"neutral\":{ \"parameter_tag\":\"restlessness\", \"value\":\"0.2\" },\"negative\":{ \"parameter_tag\":\"statusEffect\", \"value\":\"\\\\\"confused\\\\\", \\\\\"add\\\\\" : true\" }}},{\"id\":\"end1\",\"npc_dialogue\":\"Your presence makes these adventures simply delightful! Until next time our spirits dance.\",\"tag_of_node\":\"goodbye_positive\",\"player_dialogue_choices\":[],\"end_node_effect\":{\"positive\":{\"parameter_tag\":\"mood\",\"value\":\"0.5\"},\"neutral\":{\"parameter_tag\":\"restlessness\",\"value\":\"0.2\"},\"negative\":{\"parameter_tag\":\"statusEffect\",\"value\":\"\\\\\"confused\\\\\", \\\\\"add\\\\\" : true\"}}},{\"id\":\"end2\",\"npc_dialogue\":\"We\\'ve avoided the fountain this time! Until our next dance, stay light and sprightly!\",\"tag_of_node\":\"goodbye_supportive\",\"player_dialogue_choices\":[],\"end_node_effect\":{\"positive\":{\"parameter_tag\":\"mood\",\"value\":\"0.5\"},\"neutral\":{\"parameter_tag\":\"restlessness\",\"value\":\"0.2\"},\"negative\":{\"parameter_tag\":\"statusEffect\",\"value\":\"\\\\\"confused\\\\\", \\\\\"add\\\\\" : true\"}}}]}'"
      ]
     },
     "execution_count": 32,
     "metadata": {},
     "output_type": "execute_result"
    }
   ],
   "source": [
    "response.json()['tree']\n"
   ]
  },
  {
   "cell_type": "code",
   "execution_count": null,
   "metadata": {},
   "outputs": [],
   "source": []
  }
 ],
 "metadata": {
  "kernelspec": {
   "display_name": ".venv",
   "language": "python",
   "name": "python3"
  },
  "language_info": {
   "codemirror_mode": {
    "name": "ipython",
    "version": 3
   },
   "file_extension": ".py",
   "mimetype": "text/x-python",
   "name": "python",
   "nbconvert_exporter": "python",
   "pygments_lexer": "ipython3",
   "version": "3.12.3"
  }
 },
 "nbformat": 4,
 "nbformat_minor": 2
}
