{
 "cells": [
  {
   "cell_type": "code",
   "execution_count": 1,
   "metadata": {},
   "outputs": [],
   "source": [
    "from DTG.classes.LLM import *\n",
    "from DTG.prompts import prompt_funcs\n",
    "import json, time"
   ]
  },
  {
   "cell_type": "code",
   "execution_count": 2,
   "metadata": {},
   "outputs": [],
   "source": [
    "INPUT_INFO = 'NPC personality : lazy and shy . NPC mood : confused and amused. Convesation features : dancing, great move, tripping'"
   ]
  },
  {
   "cell_type": "code",
   "execution_count": 3,
   "metadata": {},
   "outputs": [],
   "source": [
    "def get_dialogue_json(input_info):\n",
    "    t_0 = time.time()\n",
    "    starting_time = time.time()\n",
    "    performance_dict = {\n",
    "        'tags' : 0,\n",
    "        'abstract' : 0,\n",
    "        'endings' : 0,\n",
    "        'tree' : 0,\n",
    "        'formatted_json' : 0\n",
    "    }\n",
    "    llm = LLM()\n",
    "    print(f'Generating tags.')\n",
    "    tags_by_llm = llm.send_message_for_code(prompt_funcs.tag_prompt(input_info), model='gpt-4o-mini')\n",
    "    print(f'Tags generated in {time.time() - starting_time} seconds.')\n",
    "    performance_dict['tags'] = time.time() - starting_time\n",
    "    starting_time = time.time()\n",
    "    print(f'Generating abstract.')\n",
    "    abstract = llm.send_message_for_code(prompt_funcs.abstract_prompt(tags_by_llm, input_info))\n",
    "    print(f'Abstract generated in {time.time() - starting_time} seconds.')\n",
    "    performance_dict['abstract'] = time.time() - starting_time\n",
    "    starting_time = time.time()\n",
    "    print(f'Generating possible endings.')\n",
    "    endings_by_llm = llm.send_message_for_code(prompt_funcs.possible_ending_prompt(abstract), model='o1-mini')\n",
    "    print(f'Possible endings generated in {time.time() - starting_time} seconds.')\n",
    "    performance_dict['endings'] = time.time() - starting_time\n",
    "    starting_time = time.time()\n",
    "    print(f'Generating dialogue tree.')\n",
    "    tree_by_llm = llm.send_message_for_code(prompt_funcs.dialogue_prompt(abstract, endings_by_llm, tags_by_llm), model='o1-preview')\n",
    "    print(f'Dialogue tree generated in {time.time() - starting_time} seconds.')\n",
    "    performance_dict['tree'] = time.time() - starting_time\n",
    "    starting_time = time.time()\n",
    "    print(f'Formatting JSON.')\n",
    "    formatted_tree = llm.send_message(prompt_funcs.format_prompt(tree_by_llm), model='gpt-4o-mini')\n",
    "    print(f'JSON formatted in {time.time() - starting_time} seconds.')\n",
    "    performance_dict['formatted_json'] = time.time() - starting_time\n",
    "    starting_time = time.time()\n",
    "    print(f'Total time taken : {time.time() - t_0} seconds.')\n",
    "    print(f'Performance dict : {performance_dict}')\n",
    "    formatted_tree_json = json.loads(formatted_tree)\n",
    "    #formatted_endings_json = json.loads(endings_by_llm)\n",
    "    return formatted_tree_json, endings_by_llm\n"
   ]
  },
  {
   "cell_type": "code",
   "execution_count": 4,
   "metadata": {},
   "outputs": [],
   "source": [
    "#tree, endings = get_dialogue_json(INPUT_INFO)"
   ]
  },
  {
   "cell_type": "code",
   "execution_count": 5,
   "metadata": {},
   "outputs": [],
   "source": [
    "from DTG.classes.OutputClasses import Tree, PossibleEndings"
   ]
  },
  {
   "cell_type": "code",
   "execution_count": 6,
   "metadata": {},
   "outputs": [],
   "source": [
    "def get_dialogue_json(input_info):\n",
    "    t_0 = time.time()\n",
    "    starting_time = time.time()\n",
    "    performance_dict = {\n",
    "        'tags' : 0,\n",
    "        'abstract' : 0,\n",
    "        'endings' : 0,\n",
    "        'tree' : 0\n",
    "    }\n",
    "    llm = LLM()\n",
    "    print(f'Generating tags.')\n",
    "    tags_by_llm = llm.send_message_for_code(prompt_funcs.tag_prompt(input_info), model='gpt-4o-mini')\n",
    "    print(f'Tags generated in {time.time() - starting_time} seconds.')\n",
    "    performance_dict['tags'] = time.time() - starting_time\n",
    "    starting_time = time.time()\n",
    "    print(f'Generating abstract.')\n",
    "    abstract = llm.send_message_for_code(prompt_funcs.abstract_prompt(tags_by_llm, input_info))\n",
    "    print(f'Abstract generated in {time.time() - starting_time} seconds.')\n",
    "    performance_dict['abstract'] = time.time() - starting_time\n",
    "    starting_time = time.time()\n",
    "    print(f'Generating possible endings.')\n",
    "    endings_by_llm = llm.send_message_for_format(prompt_funcs.possible_ending_prompt(abstract), PossibleEndings ,model='gpt-4o')\n",
    "    print(f'Possible endings generated in {time.time() - starting_time} seconds.')\n",
    "    performance_dict['endings'] = time.time() - starting_time\n",
    "    starting_time = time.time()\n",
    "    print(f'Generating dialogue tree.')\n",
    "    tree_by_llm = llm.send_message_for_format(prompt_funcs.dialogue_prompt(abstract, endings_by_llm, tags_by_llm), format=Tree,model='gpt-4o')\n",
    "    print(f'Dialogue tree generated in {time.time() - starting_time} seconds.')\n",
    "    performance_dict['tree'] = time.time() - starting_time\n",
    "    starting_time = time.time()\n",
    "    print(f'Total time taken : {time.time() - t_0} seconds.')\n",
    "    print(f'Performance dict : {performance_dict}')\n",
    "    #formatted_endings_json = json.loads(endings_by_llm)\n",
    "    return tree_by_llm, endings_by_llm\n"
   ]
  },
  {
   "cell_type": "code",
   "execution_count": 7,
   "metadata": {},
   "outputs": [
    {
     "name": "stdout",
     "output_type": "stream",
     "text": [
      "Generating tags.\n",
      "Tags generated in 7.584046125411987 seconds.\n",
      "Generating abstract.\n",
      "Abstract generated in 2.453310966491699 seconds.\n",
      "Generating possible endings.\n",
      "Possible endings generated in 1.4535679817199707 seconds.\n",
      "Generating dialogue tree.\n",
      "Dialogue tree generated in 33.83434271812439 seconds.\n",
      "Total time taken : 45.325748920440674 seconds.\n",
      "Performance dict : {'tags': 7.584151029586792, 'abstract': 2.45344614982605, 'endings': 1.4536759853363037, 'tree': 33.83446907997131}\n"
     ]
    }
   ],
   "source": [
    "tree, endings = get_dialogue_json(INPUT_INFO)"
   ]
  },
  {
   "cell_type": "code",
   "execution_count": 8,
   "metadata": {},
   "outputs": [],
   "source": [
    "with open('output.json', 'w') as file:\n",
    "    json.dump(json.loads(tree), file, indent=4)"
   ]
  },
  {
   "cell_type": "code",
   "execution_count": 13,
   "metadata": {},
   "outputs": [],
   "source": [
    "with open('PossibleRndings.json', 'w') as file:\n",
    "    json.dump(json.loads(endings), file, indent=4)"
   ]
  },
  {
   "cell_type": "code",
   "execution_count": 9,
   "metadata": {},
   "outputs": [],
   "source": [
    "import requests, json"
   ]
  },
  {
   "cell_type": "code",
   "execution_count": 10,
   "metadata": {},
   "outputs": [],
   "source": [
    "url = 'http://127.0.0.1:5000'"
   ]
  },
  {
   "cell_type": "code",
   "execution_count": 14,
   "metadata": {},
   "outputs": [],
   "source": [
    "url = \"https://us-central1-xg-app-43806.cloudfunctions.net/generate_tags\"\n",
    "\n",
    "payload = json.dumps({\n",
    "  \"input_info\": \"NPC personality : lazy and shy . NPC mood : confused and amused. Convesation features : dancing, great move, tripping\"\n",
    "})\n",
    "headers = {\n",
    "  'Content-Type': 'application/json'\n",
    "}\n",
    "\n",
    "response = requests.request(\"POST\", url, headers=headers, data=payload)"
   ]
  },
  {
   "cell_type": "code",
   "execution_count": 15,
   "metadata": {},
   "outputs": [],
   "source": [
    "tags = response.json()['tags']"
   ]
  },
  {
   "cell_type": "code",
   "execution_count": 16,
   "metadata": {},
   "outputs": [
    {
     "data": {
      "text/plain": [
       "'#greeting #question #confused #polite #amused  \\n#question #answer #supportive #informal #amused  \\n#statement #exclamation #excited #energetic #friendly  \\n#request #statement #disappointed #sympathetic #polite  \\n#exclamation #complaint #disgusted #confused #rude  \\n#joke #exclamation #funny #amused #polite  \\n#apology #statement #regretful #polite #sincere  \\n#thanks #statement #friendly #positive #supportive  \\n#suggestion #request #helpful #friendly #calm  \\n#goodbye #statement #neutral #polite #unfriendly'"
      ]
     },
     "execution_count": 16,
     "metadata": {},
     "output_type": "execute_result"
    }
   ],
   "source": [
    "tags"
   ]
  },
  {
   "cell_type": "code",
   "execution_count": 17,
   "metadata": {},
   "outputs": [],
   "source": [
    "url = \"https://us-central1-xg-app-43806.cloudfunctions.net/generate_abstract\"\n",
    "payload = json.dumps({\n",
    "    \"input_info\" : INPUT_INFO,\n",
    "    \"tags\" : tags\n",
    "})\n",
    "\n",
    "response = requests.request(\"POST\", url, headers=headers, data=payload)"
   ]
  },
  {
   "cell_type": "code",
   "execution_count": 18,
   "metadata": {},
   "outputs": [
    {
     "data": {
      "text/plain": [
       "\"As the player steps into the bustling spirit concourse, they are greeted by a somewhat lazy but shy spirit who slowly sways in a daze, exuding a blend of confusion and amusement about the afterlife. Their conversation kicks off with an awkward greeting, where the spirit sheepishly questions the player about the funky dance vibes permeating the air, only to trip over their own feet in an enthusiastic attempt to demonstrate their moves. The player chuckles, trying to support the spirit's carefree attitude while secretly wishing they could whip them into shape for the dance floor of the afterlife. Amidst the laughter, the spirit rambles on about how they wished for a spa facility instead, expressing slight disappointment but with a warm, friendly tone. As the playful banter escalates, the spirit humorously complains about the other spirits who don't dance as well, offering a cheeky joke that leaves both in stitches before they finally part ways, the spirit awkwardly swaying off while the player groans in polite disbelief at their shuffling steps.\""
      ]
     },
     "execution_count": 18,
     "metadata": {},
     "output_type": "execute_result"
    }
   ],
   "source": [
    "abstract = response.json()['abstract']\n",
    "abstract"
   ]
  },
  {
   "cell_type": "code",
   "execution_count": 19,
   "metadata": {},
   "outputs": [],
   "source": [
    "url = \"https://us-central1-xg-app-43806.cloudfunctions.net/generate_possible_endings\"\n",
    "payload = payload = json.dumps({\n",
    "    \"input_info\" : INPUT_INFO,\n",
    "    \"tags\" : tags,\n",
    "    \"abstract\" : abstract\n",
    "})\n",
    "response = requests.request(\"POST\", url, headers=headers, data=payload)"
   ]
  },
  {
   "cell_type": "code",
   "execution_count": 20,
   "metadata": {},
   "outputs": [
    {
     "data": {
      "text/plain": [
       "'{\"positive\":{\"parameter_tag\":\"Mood, Currency\",\"value\":\"{\\\\\"mood\\\\\" : 0.3, \\\\\"currency\\\\\" : 50}\"},\"neutral\":{\"parameter_tag\":\"Mood, Restlessness\",\"value\":\"{\\\\\"mood\\\\\" : 0.0, \\\\\"restlessness\\\\\" : 0.0}\"},\"negative\":{\"parameter_tag\":\"Mood, Restlessness\",\"value\":\"{\\\\\"mood\\\\\" : -0.4, \\\\\"restlessness\\\\\" : 0.2}\"}}'"
      ]
     },
     "execution_count": 20,
     "metadata": {},
     "output_type": "execute_result"
    }
   ],
   "source": [
    "endings = response.json()['endings']\n",
    "endings"
   ]
  },
  {
   "cell_type": "code",
   "execution_count": 23,
   "metadata": {},
   "outputs": [],
   "source": [
    "url = \"https://us-central1-xg-app-43806.cloudfunctions.net/generate_dialogue_tree\"\n",
    "payload = payload = json.dumps({\n",
    "    \"input_info\" : INPUT_INFO,\n",
    "    \"tags\" : tags,\n",
    "    \"abstract\" : abstract,\n",
    "    \"endings\" : endings\n",
    "})\n",
    "response = requests.request(\"POST\", url, headers=headers, data=payload)"
   ]
  },
  {
   "cell_type": "code",
   "execution_count": null,
   "metadata": {},
   "outputs": [
    {
     "data": {
      "text/plain": [
       "'{\"nodes\":[{\"id\":\"node_1\",\"npc_dialogue\":\"Whoa there, fancy feet! Did you feel those funky dance vibes, or am I just really in the groove now?\",\"tag_of_node\":\"#greeting #question #confused #polite #amused\",\"player_dialogue_choices\":[{\"player_dialogue_choice\":\"Maybe it\\'s the afterlife clubbing scene kicking in! Need a partner?\",\"next_node\":\"node_2\"},{\"player_dialogue_choice\":\"Not bad! Are you sure you didn\\'t trip over an afterlife rug?\",\"next_node\":\"node_3\"}],\"end_node_effect\":\"neutral\",\"is_end_node\":false},{\"id\":\"node_2\",\"npc_dialogue\":\"Haha! Partner in life and the afterlife, huh? But I bet you can\\'t beat my moves!\",\"tag_of_node\":\"#question #answer #supportive #informal #amused\",\"player_dialogue_choices\":[{\"player_dialogue_choice\":\"Challenge accepted! Let\\'s see who can moonwalk better than MJ.\",\"next_node\":\"node_4\"},{\"player_dialogue_choice\":\"I\\'ll let you take the floor. I\\'m more of a spa-type spirit myself!\",\"next_node\":\"node_5\"}],\"end_node_effect\":\"neutral\",\"is_end_node\":false},{\"id\":\"node_3\",\"npc_dialogue\":\"Oh dear! Not sure if it\\'s enthusiasm or ghostly coordination, but I DID wish for a spa instead. A swinging spa!\",\"tag_of_node\":\"#statement #exclamation #excited #energetic #friendly\",\"player_dialogue_choices\":[{\"player_dialogue_choice\":\"A spa with a dance floor? That\\'s a combo I\\'d love to check out!\",\"next_node\":\"node_6\"},{\"player_dialogue_choice\":\"Next time, remind me to bring some ghostly towels.\",\"next_node\":\"node_7\"}],\"end_node_effect\":\"neutral\",\"is_end_node\":false},{\"id\":\"node_4\",\"npc_dialogue\":\"Alright, you\\'ve got moves, I\\'ll give you that. But have you seen some of these stiffs out here trying to boogie?\",\"tag_of_node\":\"#exclamation #complaint #disgusted #confused #rude\",\"player_dialogue_choices\":[{\"player_dialogue_choice\":\"Maybe we can host an afterlife dance class? Spirits need to shake it off!\",\"next_node\":\"node_8\"},{\"player_dialogue_choice\":\"Oh yeah, some just can\\'t handle the funky freshness!\",\"next_node\":\"node_9\"}],\"end_node_effect\":\"neutral\",\"is_end_node\":false},{\"id\":\"node_5\",\"npc_dialogue\":\"Trust me; that spa won\\'t have seen such rhythm! But hey, let\\'s make the most with what we\\'ve got!\",\"tag_of_node\":\"#request #statement #disappointed #sympathetic #polite\",\"player_dialogue_choices\":[{\"player_dialogue_choice\":\"True! Let\\'s make this spa dream a reality, one funky spirit at a time.\",\"next_node\":\"node_10\"},{\"player_dialogue_choice\":\"Maybe I can wrangle up a few spa spirits for you soon.\",\"next_node\":\"node_11\"}],\"end_node_effect\":\"neutral\",\"is_end_node\":false},{\"id\":\"node_6\",\"npc_dialogue\":\"A dance-spa! Imagine that! But seriously, how do you know you aren\\'t just drenched in ectoplasm?\",\"tag_of_node\":\"#joke #exclamation #funny #amused #polite\",\"player_dialogue_choices\":[{\"player_dialogue_choice\":\"Let\\'s just say I\\'m a sucker for soaking and spinning strategies!\",\"next_node\":\"node_12\"},{\"player_dialogue_choice\":\"Well, guess I\\'ll need a ghost towel after all!\",\"next_node\":\"node_13\"}],\"end_node_effect\":\"neutral\",\"is_end_node\":false},{\"id\":\"node_7\",\"npc_dialogue\":\"Towels, dance floors... we\\'ll figure it all out with time I suppose. Thanks for the chit-chat!\",\"tag_of_node\":\"#thanks #statement #friendly #positive #supportive\",\"player_dialogue_choices\":[{\"player_dialogue_choice\":\"Anytime, you delightful dancer! Keep the grooves alive.\",\"next_node\":\"positive_ending\"},{\"player_dialogue_choice\":\"It\\'s been a hauntingly humorous time! See you later!\",\"next_node\":\"neutral_ending\"}],\"end_node_effect\":\"positive\",\"is_end_node\":false},{\"id\":\"node_8\",\"npc_dialogue\":\"A dance class... now there\\'s an idea! Consider me your first student with two left feet!\",\"tag_of_node\":\"#suggestion #request #helpful #friendly #calm\",\"player_dialogue_choices\":[{\"player_dialogue_choice\":\"Always aiming to elevate even the ghostliest grooves!\",\"next_node\":\"positive_ending\"},{\"player_dialogue_choice\":\"Let\\'s booty shake our way into better afterlife coordination!\",\"next_node\":\"neutral_ending\"}],\"end_node_effect\":\"neutral\",\"is_end_node\":false},{\"id\":\"node_9\",\"npc_dialogue\":\"Guess the afterlife can\\'t make everyone a king of the dance floor! Until next time, keep it groovy.\",\"tag_of_node\":\"#goodbye #statement #neutral #polite #unfriendly\",\"player_dialogue_choices\":[{\"player_dialogue_choice\":\"Consider it added to my ghostly to-do list! Farewell!\",\"next_node\":\"neutral_ending\"},{\"player_dialogue_choice\":\"Guess we\\'ll need ecto-disco lessons sooner than later!\",\"next_node\":\"negative_ending\"}],\"end_node_effect\":\"negative\",\"is_end_node\":false},{\"id\":\"node_10\",\"npc_dialogue\":\"Let the spirits unite in jazzy jigs and soothing spa vibes! We\\'ll do wonders!\",\"tag_of_node\":\"#thanks #statement #friendly #positive #supportive\",\"player_dialogue_choices\":[{\"player_dialogue_choice\":\"Together, we\\'ll create ethereal excellence!\",\"next_node\":\"positive_ending\"},{\"player_dialogue_choice\":\"I\\'m all in for some spooky spa serenity!\",\"next_node\":\"neutral_ending\"}],\"end_node_effect\":\"positive\",\"is_end_node\":false},{\"id\":\"node_11\",\"npc_dialogue\":\"Sure thing, spa lovers are fellow requests from the beyond! Look forward to it!\",\"tag_of_node\":\"#suggestion #request #helpful #friendly #calm\",\"player_dialogue_choices\":[{\"player_dialogue_choice\":\"Spooky spa serenity—coming right up!\",\"next_node\":\"neutral_ending\"},{\"player_dialogue_choice\":\"Consider \\'Ghostly Leisure Facility\\' added to my task list!\",\"next_node\":\"negative_ending\"}],\"end_node_effect\":\"neutral\",\"is_end_node\":false},{\"id\":\"node_12\",\"npc_dialogue\":\"Well, I sense the realm will soon be grooving as it\\'s supposed to! Take a bow!\",\"tag_of_node\":\"#thanks #statement #friendly #positive #supportive\",\"player_dialogue_choices\":[{\"player_dialogue_choice\":\"For an audience of spooky spirits, always happy to perform.\",\"next_node\":\"positive_ending\"},{\"player_dialogue_choice\":\"And with that, I\\'m ghosting off for more afterlife adventures!\",\"next_node\":\"neutral_ending\"}],\"end_node_effect\":\"positive\",\"is_end_node\":false},{\"id\":\"node_13\",\"npc_dialogue\":\"Haha, a ghost towel would sure come in handy. Thanks for the laughs and good vibes!\",\"tag_of_node\":\"#thanks #statement #friendly #positive #supportive\",\"player_dialogue_choices\":[{\"player_dialogue_choice\":\"Stay groovy, spirit buddy! See you on the flip side.\",\"next_node\":\"positive_ending\"},{\"player_dialogue_choice\":\"Glad to have spiced up your afterlife today!\",\"next_node\":\"neutral_ending\"}],\"end_node_effect\":\"positive\",\"is_end_node\":false}]}'"
      ]
     },
     "execution_count": 22,
     "metadata": {},
     "output_type": "execute_result"
    }
   ],
   "source": [
    "tree_json = response.json()['tree']\n"
   ]
  },
  {
   "cell_type": "code",
   "execution_count": null,
   "metadata": {},
   "outputs": [],
   "source": []
  }
 ],
 "metadata": {
  "kernelspec": {
   "display_name": ".venv",
   "language": "python",
   "name": "python3"
  },
  "language_info": {
   "codemirror_mode": {
    "name": "ipython",
    "version": 3
   },
   "file_extension": ".py",
   "mimetype": "text/x-python",
   "name": "python",
   "nbconvert_exporter": "python",
   "pygments_lexer": "ipython3",
   "version": "3.12.3"
  }
 },
 "nbformat": 4,
 "nbformat_minor": 2
}
